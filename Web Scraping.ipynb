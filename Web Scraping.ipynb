{
 "cells": [
  {
   "cell_type": "code",
   "execution_count": 10,
   "metadata": {},
   "outputs": [],
   "source": [
    "import requests \n",
    "from bs4 import BeautifulSoup\n",
    "import pandas as pd"
   ]
  },
  {
   "cell_type": "code",
   "execution_count": 11,
   "metadata": {},
   "outputs": [],
   "source": [
    "review_list = []"
   ]
  },
  {
   "cell_type": "code",
   "execution_count": 12,
   "metadata": {},
   "outputs": [],
   "source": [
    "def get_soup(url):\n",
    "    r = requests.get('http://localhost:8050/render.html', params={'url': url, 'wait': 2})\n",
    "    #r = requests.get(url)\n",
    "    #print(r.text)\n",
    "\n",
    "    soup = BeautifulSoup(r.text, 'html.parser')\n",
    "    #print(soup.title.text)\n",
    "\n",
    "    return soup"
   ]
  },
  {
   "cell_type": "code",
   "execution_count": 13,
   "metadata": {},
   "outputs": [],
   "source": [
    "def main_landing_page(url):\n",
    "    x = get_soup(url)\n",
    "    a_tag = x.find('a', attrs={'data-hook': 'see-all-reviews-link-foot', 'class': 'a-link-emphasis a-text-bold'})\n",
    "    href = a_tag.get('href')\n",
    "\n",
    "    head = 'https://www.amazon.in'\n",
    "    all_reviews_link = head + href\n",
    "    return all_reviews_link"
   ]
  },
  {
   "cell_type": "code",
   "execution_count": 14,
   "metadata": {},
   "outputs": [],
   "source": [
    "def get_reviews(soup):\n",
    "    reviews = soup.find_all('div', {'data-hook': 'review'})\n",
    "\n",
    "    try:\n",
    "        for item in reviews:\n",
    "            product = soup.title.text.replace('Amazon.in:Customer reviews:','').strip()\n",
    "\n",
    "            title = item.find('a', {'data-hook': 'review-title'}).text.strip()\n",
    "            #print(title)\n",
    "\n",
    "            rating = float(item.find('i', {'data-hook': 'review-star-rating'}).text.replace('out of 5 stars', '').strip())\n",
    "            #print(rating)\n",
    "            \n",
    "            body= item.find('span', {'data-hook': 'review-body'}).text.strip()\n",
    "            #print(body)\n",
    "\n",
    "            # Creating a dictionary for all the entities\n",
    "            review = {'product': soup.title.text.replace('Amazon.in:Customer reviews:',''),\n",
    "                'title': item.find('a', {'data-hook': 'review-title'}).text.strip(),\n",
    "                'rating': float(item.find('i', {'data-hook': 'review-star-rating'}).text.replace('out of 5 stars', '').strip()),\n",
    "                'body': item.find('span', {'data-hook': 'review-body'}).text.strip()\n",
    "                }\n",
    "            #print(review) \n",
    "            review_list.append(review)\n",
    "    except: \n",
    "        pass"
   ]
  },
  {
   "cell_type": "code",
   "execution_count": 16,
   "metadata": {},
   "outputs": [
    {
     "name": "stdout",
     "output_type": "stream",
     "text": [
      "https://www.amazon.in/Harry-Potter-ChildrenS-Paperback-Boxed/product-reviews/1408856778/ref=cm_cr_dp_d_show_all_btm?ie=UTF8&reviewerType=all_reviews\n"
     ]
    }
   ],
   "source": [
    "url = 'https://www.amazon.in/Harry-Potter-ChildrenS-Paperback-Boxed/dp/1408856778/ref=sr_1_5?crid=2GSMEW3MMQGVA&keywords=harry+potter&qid=1700247302&sprefix=Harry+P%2Caps%2C262&sr=8-5'\n",
    "new = main_landing_page(url)\n",
    "print(new)"
   ]
  },
  {
   "cell_type": "code",
   "execution_count": 17,
   "metadata": {},
   "outputs": [
    {
     "name": "stdout",
     "output_type": "stream",
     "text": [
      "https://www.amazon.in/Harry-Potter-ChildrenS-Paperback-Boxed/product-reviews/1408856778/ref=cm_cr_dp_d_show_all_btm?ie=UTF8&reviewerType=all_reviews&pageNumber=\n"
     ]
    }
   ],
   "source": [
    "new_var = new + '&pageNumber='\n",
    "print(new_var)"
   ]
  },
  {
   "cell_type": "code",
   "execution_count": 18,
   "metadata": {},
   "outputs": [
    {
     "name": "stdout",
     "output_type": "stream",
     "text": [
      "https://www.amazon.in/Harry-Potter-ChildrenS-Paperback-Boxed/product-reviews/1408856778/ref=cm_cr_dp_d_show_all_btm?ie=UTF8&reviewerType=all_reviews&pageNumber=1\n",
      "Getting page: 1\n",
      "10\n",
      "https://www.amazon.in/Harry-Potter-ChildrenS-Paperback-Boxed/product-reviews/1408856778/ref=cm_cr_dp_d_show_all_btm?ie=UTF8&reviewerType=all_reviews&pageNumber=2\n",
      "Getting page: 2\n",
      "20\n",
      "https://www.amazon.in/Harry-Potter-ChildrenS-Paperback-Boxed/product-reviews/1408856778/ref=cm_cr_dp_d_show_all_btm?ie=UTF8&reviewerType=all_reviews&pageNumber=3\n",
      "Getting page: 3\n",
      "30\n",
      "https://www.amazon.in/Harry-Potter-ChildrenS-Paperback-Boxed/product-reviews/1408856778/ref=cm_cr_dp_d_show_all_btm?ie=UTF8&reviewerType=all_reviews&pageNumber=4\n",
      "Getting page: 4\n",
      "40\n",
      "https://www.amazon.in/Harry-Potter-ChildrenS-Paperback-Boxed/product-reviews/1408856778/ref=cm_cr_dp_d_show_all_btm?ie=UTF8&reviewerType=all_reviews&pageNumber=5\n",
      "Getting page: 5\n",
      "50\n",
      "https://www.amazon.in/Harry-Potter-ChildrenS-Paperback-Boxed/product-reviews/1408856778/ref=cm_cr_dp_d_show_all_btm?ie=UTF8&reviewerType=all_reviews&pageNumber=6\n",
      "Getting page: 6\n",
      "60\n",
      "https://www.amazon.in/Harry-Potter-ChildrenS-Paperback-Boxed/product-reviews/1408856778/ref=cm_cr_dp_d_show_all_btm?ie=UTF8&reviewerType=all_reviews&pageNumber=7\n",
      "Getting page: 7\n",
      "70\n",
      "https://www.amazon.in/Harry-Potter-ChildrenS-Paperback-Boxed/product-reviews/1408856778/ref=cm_cr_dp_d_show_all_btm?ie=UTF8&reviewerType=all_reviews&pageNumber=8\n",
      "Getting page: 8\n",
      "80\n",
      "https://www.amazon.in/Harry-Potter-ChildrenS-Paperback-Boxed/product-reviews/1408856778/ref=cm_cr_dp_d_show_all_btm?ie=UTF8&reviewerType=all_reviews&pageNumber=9\n",
      "Getting page: 9\n",
      "90\n",
      "https://www.amazon.in/Harry-Potter-ChildrenS-Paperback-Boxed/product-reviews/1408856778/ref=cm_cr_dp_d_show_all_btm?ie=UTF8&reviewerType=all_reviews&pageNumber=10\n",
      "Getting page: 10\n",
      "100\n"
     ]
    }
   ],
   "source": [
    "for x in range (1,15):\n",
    "    temp = new_var + str(x)\n",
    "    print(temp)\n",
    "    soup = get_soup(temp)\n",
    "    print(f'Getting page: {x}')\n",
    "    get_reviews(soup)\n",
    "    print(len(review_list))\n",
    "    #Adding break condition i.e when no more reviews are left\n",
    "    if not soup.find('li', {'class': 'a-disabled a-last'}):\n",
    "        pass\n",
    "    else:\n",
    "        break"
   ]
  },
  {
   "cell_type": "code",
   "execution_count": 19,
   "metadata": {},
   "outputs": [
    {
     "name": "stdout",
     "output_type": "stream",
     "text": [
      "Finished\n"
     ]
    }
   ],
   "source": [
    "df = pd.DataFrame(review_list)\n",
    "df.to_excel('Reviews.xlsx',index=False)\n",
    "print('Finished')"
   ]
  }
 ],
 "metadata": {
  "kernelspec": {
   "display_name": "env",
   "language": "python",
   "name": "python3"
  },
  "language_info": {
   "codemirror_mode": {
    "name": "ipython",
    "version": 3
   },
   "file_extension": ".py",
   "mimetype": "text/x-python",
   "name": "python",
   "nbconvert_exporter": "python",
   "pygments_lexer": "ipython3",
   "version": "3.9.0"
  }
 },
 "nbformat": 4,
 "nbformat_minor": 2
}
