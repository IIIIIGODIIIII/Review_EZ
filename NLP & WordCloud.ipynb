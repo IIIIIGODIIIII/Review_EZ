{
 "cells": [
  {
   "cell_type": "code",
   "execution_count": 1,
   "id": "9a7f0b57",
   "metadata": {},
   "outputs": [],
   "source": [
    "# importing the required libraries\n",
    "\n",
    "import pandas as pd\n",
    "import re\n",
    "import nltk\n",
    "from nltk.tokenize import word_tokenize\n",
    "from nltk.corpus import stopwords\n",
    "from nltk.corpus import wordnet\n",
    "from nltk.sentiment.vader import SentimentIntensityAnalyzer\n",
    "from rake_nltk import Rake\n",
    "from collections import defaultdict"
   ]
  },
  {
   "cell_type": "code",
   "execution_count": 2,
   "id": "e5e3fa7e",
   "metadata": {},
   "outputs": [],
   "source": [
    "# nltk.download('punkt')\n",
    "# nltk.download('averaged_perceptron_tagger')\n",
    "# nltk.download('stopwords')\n",
    "# nltk.download('wordnet')\n",
    "# nltk.download(\"vader_lexicon\")"
   ]
  },
  {
   "cell_type": "code",
   "execution_count": 3,
   "id": "9cbe4513",
   "metadata": {},
   "outputs": [],
   "source": [
    "readata = pd.read_excel('Reviews.xlsx')"
   ]
  },
  {
   "cell_type": "code",
   "execution_count": 4,
   "id": "fee45f7e",
   "metadata": {},
   "outputs": [],
   "source": [
    "array = readata[['rating','body']].values.tolist()"
   ]
  },
  {
   "cell_type": "code",
   "execution_count": 5,
   "id": "04050aec",
   "metadata": {},
   "outputs": [],
   "source": [
    "# reading dataset (in 'array')\n",
    "# communicates with the backend"
   ]
  },
  {
   "cell_type": "code",
   "execution_count": 6,
   "id": "22662dbd",
   "metadata": {},
   "outputs": [],
   "source": [
    "# converting the dataset into pandas dataframe\n",
    "\n",
    "data=pd.DataFrame(array, columns=['rating','text'])"
   ]
  },
  {
   "cell_type": "code",
   "execution_count": 7,
   "id": "b7341723",
   "metadata": {
    "scrolled": true
   },
   "outputs": [
    {
     "data": {
      "text/plain": [
       "{1: 0, 2: 0, 3: 0, 4: 30, 5: 0}"
      ]
     },
     "execution_count": 7,
     "metadata": {},
     "output_type": "execute_result"
    }
   ],
   "source": [
    "# calculating the ratings' count\n",
    "\n",
    "rating={1:0,2:0,3:0,4:0,5:0}\n",
    "rating_order=data['rating'].value_counts().to_dict()\n",
    "rating.update(rating_order)\n",
    "rating"
   ]
  },
  {
   "cell_type": "code",
   "execution_count": 8,
   "id": "4465070f",
   "metadata": {
    "scrolled": true
   },
   "outputs": [
    {
     "name": "stdout",
     "output_type": "stream",
     "text": [
      "Empty DataFrame\n",
      "Columns: [rating, text]\n",
      "Index: []\n",
      "Empty DataFrame\n",
      "Columns: [rating, text]\n",
      "Index: []\n"
     ]
    }
   ],
   "source": [
    "# checking if there are any text rows with null value\n",
    "\n",
    "print(data[data['text'].isnull()])  # rows with null values\n",
    "print(data[data['text'].apply(lambda x: not isinstance(x, str))])  # rows with non-string values"
   ]
  },
  {
   "cell_type": "code",
   "execution_count": 9,
   "id": "4b3050ed",
   "metadata": {},
   "outputs": [],
   "source": [
    "#filling the null values\n",
    "\n",
    "data['text'] = data['text'].fillna('')  # replace null values with empty string\n",
    "data['text'] = data['text'].apply(lambda x: '' if not isinstance(x, str) else x)  # replace non-string values with empty string"
   ]
  },
  {
   "cell_type": "code",
   "execution_count": 10,
   "id": "4b1af0a6",
   "metadata": {
    "scrolled": true
   },
   "outputs": [],
   "source": [
    "# extracting keywords using RAKE\n",
    "\n",
    "r = Rake(min_length=3, max_length=4,stopwords=stopwords.words('english'),\n",
    "    punctuations = [')','(',',',':','),',').','.'])\n",
    "def extract_keywords(text):\n",
    "    r.extract_keywords_from_text(text)\n",
    "    return r.get_ranked_phrases()\n",
    "\n",
    "data['keywords'] = data['text'].apply(extract_keywords)"
   ]
  },
  {
   "cell_type": "code",
   "execution_count": 11,
   "id": "271eb7f6",
   "metadata": {},
   "outputs": [
    {
     "data": {
      "text/html": [
       "<div>\n",
       "<style scoped>\n",
       "    .dataframe tbody tr th:only-of-type {\n",
       "        vertical-align: middle;\n",
       "    }\n",
       "\n",
       "    .dataframe tbody tr th {\n",
       "        vertical-align: top;\n",
       "    }\n",
       "\n",
       "    .dataframe thead th {\n",
       "        text-align: right;\n",
       "    }\n",
       "</style>\n",
       "<table border=\"1\" class=\"dataframe\">\n",
       "  <thead>\n",
       "    <tr style=\"text-align: right;\">\n",
       "      <th></th>\n",
       "      <th>rating</th>\n",
       "      <th>text</th>\n",
       "      <th>keywords</th>\n",
       "    </tr>\n",
       "  </thead>\n",
       "  <tbody>\n",
       "    <tr>\n",
       "      <th>0</th>\n",
       "      <td>4</td>\n",
       "      <td>The OnePlus Nord CE 3 5G is a device that does...</td>\n",
       "      <td>[warp charge feature ensures, offers reliable ...</td>\n",
       "    </tr>\n",
       "    <tr>\n",
       "      <th>1</th>\n",
       "      <td>4</td>\n",
       "      <td>I recently upgraded to the OnePlus Nord CE 3 L...</td>\n",
       "      <td>[phone handles various apps, :** pros :** 1, *...</td>\n",
       "    </tr>\n",
       "    <tr>\n",
       "      <th>2</th>\n",
       "      <td>4</td>\n",
       "      <td>I am using this phone since April 2023 . This ...</td>\n",
       "      <td>[phone since april 2023, run heavy games, past...</td>\n",
       "    </tr>\n",
       "    <tr>\n",
       "      <th>3</th>\n",
       "      <td>4</td>\n",
       "      <td>Won't say budget phone, but not bad.Got it on ...</td>\n",
       "      <td>[say budget phone]</td>\n",
       "    </tr>\n",
       "    <tr>\n",
       "      <th>4</th>\n",
       "      <td>4</td>\n",
       "      <td>If you need a good phone with good battery lif...</td>\n",
       "      <td>[average camerascreen feels laggy, increase vi...</td>\n",
       "    </tr>\n",
       "  </tbody>\n",
       "</table>\n",
       "</div>"
      ],
      "text/plain": [
       "   rating                                               text  \\\n",
       "0       4  The OnePlus Nord CE 3 5G is a device that does...   \n",
       "1       4  I recently upgraded to the OnePlus Nord CE 3 L...   \n",
       "2       4  I am using this phone since April 2023 . This ...   \n",
       "3       4  Won't say budget phone, but not bad.Got it on ...   \n",
       "4       4  If you need a good phone with good battery lif...   \n",
       "\n",
       "                                            keywords  \n",
       "0  [warp charge feature ensures, offers reliable ...  \n",
       "1  [phone handles various apps, :** pros :** 1, *...  \n",
       "2  [phone since april 2023, run heavy games, past...  \n",
       "3                                 [say budget phone]  \n",
       "4  [average camerascreen feels laggy, increase vi...  "
      ]
     },
     "execution_count": 11,
     "metadata": {},
     "output_type": "execute_result"
    }
   ],
   "source": [
    "data.head()"
   ]
  },
  {
   "cell_type": "code",
   "execution_count": 12,
   "id": "8da1fa66",
   "metadata": {},
   "outputs": [],
   "source": [
    "# cleaning the data\n",
    "\n",
    "def clean(text):\n",
    "    text = re.sub('[^a-zA-Z0-9]', ' ', text) # Removes special characters  \n",
    "    text = text.lower() # Converts to lowercase\n",
    "    text = re.sub('\\s+', ' ', text) # Remove extra whitespace\n",
    "    return text\n",
    "\n",
    "data['Cleaned Reviews'] = data['text'].apply(clean)"
   ]
  },
  {
   "cell_type": "code",
   "execution_count": 13,
   "id": "70440ec0",
   "metadata": {},
   "outputs": [],
   "source": [
    "# tokenization\n",
    "\n",
    "def tokenize_text(text):\n",
    "    tokens = nltk.word_tokenize(text)\n",
    "    return tokens"
   ]
  },
  {
   "cell_type": "code",
   "execution_count": 14,
   "id": "9f40d580",
   "metadata": {},
   "outputs": [],
   "source": [
    "# POS tagging\n",
    "\n",
    "def pos_tag(tokens):\n",
    "    tagged_tokens = nltk.pos_tag(tokens)\n",
    "    return tagged_tokens"
   ]
  },
  {
   "cell_type": "code",
   "execution_count": 15,
   "id": "b8e45671",
   "metadata": {
    "scrolled": true
   },
   "outputs": [
    {
     "data": {
      "text/html": [
       "<div>\n",
       "<style scoped>\n",
       "    .dataframe tbody tr th:only-of-type {\n",
       "        vertical-align: middle;\n",
       "    }\n",
       "\n",
       "    .dataframe tbody tr th {\n",
       "        vertical-align: top;\n",
       "    }\n",
       "\n",
       "    .dataframe thead th {\n",
       "        text-align: right;\n",
       "    }\n",
       "</style>\n",
       "<table border=\"1\" class=\"dataframe\">\n",
       "  <thead>\n",
       "    <tr style=\"text-align: right;\">\n",
       "      <th></th>\n",
       "      <th>rating</th>\n",
       "      <th>text</th>\n",
       "      <th>keywords</th>\n",
       "      <th>Cleaned Reviews</th>\n",
       "      <th>POS tagged</th>\n",
       "    </tr>\n",
       "  </thead>\n",
       "  <tbody>\n",
       "    <tr>\n",
       "      <th>0</th>\n",
       "      <td>4</td>\n",
       "      <td>The OnePlus Nord CE 3 5G is a device that does...</td>\n",
       "      <td>[warp charge feature ensures, offers reliable ...</td>\n",
       "      <td>the oneplus nord ce 3 5g is a device that does...</td>\n",
       "      <td>[excellent user, slim design, clean user, frie...</td>\n",
       "    </tr>\n",
       "    <tr>\n",
       "      <th>1</th>\n",
       "      <td>4</td>\n",
       "      <td>I recently upgraded to the OnePlus Nord CE 3 L...</td>\n",
       "      <td>[phone handles various apps, :** pros :** 1, *...</td>\n",
       "      <td>i recently upgraded to the oneplus nord ce 3 l...</td>\n",
       "      <td>[sleek design, lightweight build, extended per...</td>\n",
       "    </tr>\n",
       "    <tr>\n",
       "      <th>2</th>\n",
       "      <td>4</td>\n",
       "      <td>I am using this phone since April 2023 . This ...</td>\n",
       "      <td>[phone since april 2023, run heavy games, past...</td>\n",
       "      <td>i am using this phone since april 2023 this ph...</td>\n",
       "      <td>[good i, heavy games, heating issue, great i]</td>\n",
       "    </tr>\n",
       "    <tr>\n",
       "      <th>3</th>\n",
       "      <td>4</td>\n",
       "      <td>Won't say budget phone, but not bad.Got it on ...</td>\n",
       "      <td>[say budget phone]</td>\n",
       "      <td>won t say budget phone but not bad got it on 1...</td>\n",
       "      <td>[good sound, battery life]</td>\n",
       "    </tr>\n",
       "    <tr>\n",
       "      <th>4</th>\n",
       "      <td>4</td>\n",
       "      <td>If you need a good phone with good battery lif...</td>\n",
       "      <td>[average camerascreen feels laggy, increase vi...</td>\n",
       "      <td>if you need a good phone with good battery lif...</td>\n",
       "      <td>[good phone, good battery, free software, pain...</td>\n",
       "    </tr>\n",
       "  </tbody>\n",
       "</table>\n",
       "</div>"
      ],
      "text/plain": [
       "   rating                                               text  \\\n",
       "0       4  The OnePlus Nord CE 3 5G is a device that does...   \n",
       "1       4  I recently upgraded to the OnePlus Nord CE 3 L...   \n",
       "2       4  I am using this phone since April 2023 . This ...   \n",
       "3       4  Won't say budget phone, but not bad.Got it on ...   \n",
       "4       4  If you need a good phone with good battery lif...   \n",
       "\n",
       "                                            keywords  \\\n",
       "0  [warp charge feature ensures, offers reliable ...   \n",
       "1  [phone handles various apps, :** pros :** 1, *...   \n",
       "2  [phone since april 2023, run heavy games, past...   \n",
       "3                                 [say budget phone]   \n",
       "4  [average camerascreen feels laggy, increase vi...   \n",
       "\n",
       "                                     Cleaned Reviews  \\\n",
       "0  the oneplus nord ce 3 5g is a device that does...   \n",
       "1  i recently upgraded to the oneplus nord ce 3 l...   \n",
       "2  i am using this phone since april 2023 this ph...   \n",
       "3  won t say budget phone but not bad got it on 1...   \n",
       "4  if you need a good phone with good battery lif...   \n",
       "\n",
       "                                          POS tagged  \n",
       "0  [excellent user, slim design, clean user, frie...  \n",
       "1  [sleek design, lightweight build, extended per...  \n",
       "2      [good i, heavy games, heating issue, great i]  \n",
       "3                         [good sound, battery life]  \n",
       "4  [good phone, good battery, free software, pain...  "
      ]
     },
     "execution_count": 15,
     "metadata": {},
     "output_type": "execute_result"
    }
   ],
   "source": [
    "# extracting keywords from the Cleaned Reviews such that the adjective is followed by a noun\n",
    "\n",
    "pos_dict = {'J': 'A'}\n",
    "\n",
    "def token_stop_adjectives(text):\n",
    "    tags = pos_tag(tokenize_text(text))\n",
    "    newlist = []\n",
    "    for i in range(len(tags)-1):\n",
    "        word, tag = tags[i]\n",
    "        if word not in set(stopwords.words('english')) and tag[0] in pos_dict:\n",
    "            if tags[i+1][1][0] == 'N':\n",
    "                newlist.append((word + ' ' + tags[i+1][0]))\n",
    "        elif word not in set(stopwords.words('english')) and tag[0] not in pos_dict:\n",
    "            continue\n",
    "    return newlist\n",
    "\n",
    "data['POS tagged'] = data['Cleaned Reviews'].apply(token_stop_adjectives)\n",
    "data.head()"
   ]
  },
  {
   "cell_type": "code",
   "execution_count": 16,
   "id": "79dd1e4c",
   "metadata": {},
   "outputs": [],
   "source": [
    "sia=SentimentIntensityAnalyzer()"
   ]
  },
  {
   "cell_type": "code",
   "execution_count": 17,
   "id": "7e57c9b3",
   "metadata": {
    "scrolled": true
   },
   "outputs": [],
   "source": [
    "# performing Sentimental Analysis\n",
    "\n",
    "word_scores = defaultdict(list)\n",
    "\n",
    "# calculating the sentiment scores for each word in each sentence\n",
    "for sentence in data['POS tagged']:\n",
    "    for word in sentence:\n",
    "        scores = sia.polarity_scores(word)\n",
    "        word_scores[word].append(scores['compound'])\n",
    "\n",
    "for sentence in data['keywords']:\n",
    "    for word in sentence:\n",
    "        scores = sia.polarity_scores(word)\n",
    "        word_scores[word].append(scores['compound'])\n",
    "\n",
    "# sorting the words by compound score\n",
    "positive_words = sorted(word_scores, key=lambda w: max(word_scores[w]), reverse=True)[:50]\n",
    "negative_words = sorted(word_scores, key=lambda w: min(word_scores[w]))[:50]"
   ]
  },
  {
   "cell_type": "code",
   "execution_count": 18,
   "id": "66e1241c",
   "metadata": {
    "scrolled": false
   },
   "outputs": [
    {
     "name": "stdout",
     "output_type": "stream",
     "text": [
      "8\n",
      "4\n"
     ]
    }
   ],
   "source": [
    "# algorithm to calculate the number of positive and negative words to be returned on the basis of the Ratings\n",
    "\n",
    "pos={1: 10, 2: 8, 3: 6, 4: 4,5: 2}\n",
    "neg={1: 2, 2: 4, 3: 6, 4: 8,5: 10}\n",
    "\n",
    "count_pos=0\n",
    "count_neg=0\n",
    "\n",
    "for key in rating:\n",
    "    count_pos += round(rating[key]/pos[key])\n",
    "    count_neg += round(rating[key]/neg[key])\n",
    "\n",
    "print(count_pos)\n",
    "print(count_neg)"
   ]
  },
  {
   "cell_type": "code",
   "execution_count": 19,
   "id": "ff5f8596",
   "metadata": {
    "scrolled": true
   },
   "outputs": [
    {
     "data": {
      "text/plain": [
       "[{'text': 'excellent value', 'value': 72.69},\n",
       " {'text': 'best phones', 'value': 63.69},\n",
       " {'text': 'best brand', 'value': 63.69},\n",
       " {'text': 'best package', 'value': 63.69},\n",
       " {'text': 'best brand appearance', 'value': 63.69},\n",
       " {'text': 'great option', 'value': 62.49},\n",
       " {'text': 'great i', 'value': 62.49},\n",
       " {'text': 'great performance', 'value': 62.49},\n",
       " {'text': 'poor delivery', 'value': -47.67},\n",
       " {'text': 'late n poor delivery', 'value': -47.67},\n",
       " {'text': 'painful finger', 'value': -44.04},\n",
       " {'text': '5 5 ', 'value': -42.15}]"
      ]
     },
     "execution_count": 19,
     "metadata": {},
     "output_type": "execute_result"
    }
   ],
   "source": [
    "# generating an array of product's features\n",
    "\n",
    "p=0\n",
    "n=0\n",
    "returnwords=[]\n",
    "for word in positive_words:\n",
    "    if(p<count_pos and max(word_scores[word])>0.5 ):\n",
    "        returnwords.append({'text':clean(word), 'value':round(max(word_scores[word])*100,2)})\n",
    "        p=p+1\n",
    "    else:\n",
    "        break\n",
    "\n",
    "for word in negative_words:\n",
    "    if(n<count_neg):\n",
    "        returnwords.append({'text':clean(word), 'value':round(min(word_scores[word])*100,2)})\n",
    "        n=n+1\n",
    "    else:\n",
    "        break        \n",
    "        \n",
    "returnwords"
   ]
  },
  {
   "cell_type": "code",
   "execution_count": 20,
   "metadata": {},
   "outputs": [],
   "source": [
    "from wordcloud import WordCloud \n",
    "from PIL import Image"
   ]
  },
  {
   "cell_type": "code",
   "execution_count": 21,
   "metadata": {},
   "outputs": [],
   "source": [
    "# Create a string containing all the words\n",
    "font_path = 'E:\\Computer Science\\Machine Learning\\Projects\\ReviewEZ\\Font\\static\\Quicksand-Regular.ttf'\n",
    "text = ' '.join(word['text'] for word in returnwords)\n",
    "\n",
    "# Generate the word cloud\n",
    "wordcloud = WordCloud(font_path, width=800, height=600, background_color='white').generate(text)\n",
    "img = wordcloud.to_image()"
   ]
  },
  {
   "cell_type": "code",
   "execution_count": null,
   "metadata": {},
   "outputs": [],
   "source": [
    "from io import BytesIO\n",
    "import base64\n",
    "\n",
    "img = BytesIO()\n",
    "wordcloud.to_image().save(WordCloud, format=\"PNG\")\n",
    "img_str = base64.b64encode(img.getvalue()).decode(\"utf-8\")\n",
    "return {\"image\": img_str}"
   ]
  },
  {
   "cell_type": "code",
   "execution_count": 22,
   "metadata": {},
   "outputs": [],
   "source": [
    "img.show()"
   ]
  }
 ],
 "metadata": {
  "kernelspec": {
   "display_name": "Python 3 (ipykernel)",
   "language": "python",
   "name": "python3"
  },
  "language_info": {
   "codemirror_mode": {
    "name": "ipython",
    "version": 3
   },
   "file_extension": ".py",
   "mimetype": "text/x-python",
   "name": "python",
   "nbconvert_exporter": "python",
   "pygments_lexer": "ipython3",
   "version": "3.9.0"
  }
 },
 "nbformat": 4,
 "nbformat_minor": 5
}
